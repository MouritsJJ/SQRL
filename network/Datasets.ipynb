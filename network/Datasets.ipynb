{
 "cells": [
  {
   "cell_type": "markdown",
   "id": "4a4e4ffe",
   "metadata": {},
   "source": [
    "## Imports"
   ]
  },
  {
   "cell_type": "code",
   "execution_count": 29,
   "id": "1792de12",
   "metadata": {},
   "outputs": [],
   "source": [
    "import os\n",
    "import numpy as np\n",
    "from PIL import Image\n",
    "import torch\n",
    "from torchvision.datasets import MNIST, FashionMNIST, CIFAR10, SVHN\n",
    "from tqdm import tqdm\n",
    "import matplotlib.pyplot as plt"
   ]
  },
  {
   "cell_type": "markdown",
   "id": "b2f77090",
   "metadata": {},
   "source": [
    "## Methods"
   ]
  },
  {
   "cell_type": "code",
   "execution_count": 47,
   "id": "15984fbf-6e22-414f-8a82-77d116effd14",
   "metadata": {},
   "outputs": [],
   "source": [
    "def rotate(X, angle_min, angle_max, grey=False):\n",
    "    (H, W) = X.shape[1:3]\n",
    "    xpad, pad = add_padding(X, H, grey)\n",
    "    xrot = []\n",
    "    for x in tqdm(xpad):\n",
    "        xrot.append(rotate_img(x, angle_min, angle_max))\n",
    "    return remove_padding(np.array(xrot), H, W, pad, grey)\n",
    "\n",
    "def add_padding(X, H, grey):\n",
    "    # Assuming X is squared\n",
    "    pad = H / 2 * 2**0.5 * 2\n",
    "    pad = int(np.ceil((pad - H) / 2))\n",
    "\n",
    "    paddings = ((0, 0), (pad, pad), (pad, pad)) if grey else ((0, 0), (pad, pad), (pad, pad), (0, 0))\n",
    "\n",
    "    return np.pad(X, paddings, mode='symmetric'), pad\n",
    "\n",
    "def remove_padding(X, H, W, pad, grey):\n",
    "    return X[:, pad:H+pad, pad:W+pad] if grey else X[:, :, pad:H+pad, pad:W+pad]\n",
    "\n",
    "def rotate_img(X, r_min, r_max):\n",
    "    angle = np.random.randint(r_min, r_max)\n",
    "    return np.array(Image.fromarray((X*255).astype(np.uint8)).rotate(angle)).astype(np.float32)/255\n",
    "\n",
    "\n",
    "def convert_to_lossless_polar(img):\n",
    "    assert len(img.shape) == 3\n",
    "    assert img.shape[0] == img.shape[1]\n",
    "    M = img.shape[0]\n",
    "    C = img.shape[-1]\n",
    "    R = M//2 + 1\n",
    "    W = (M+1)*4\n",
    "    row, col = 0, 0\n",
    "    new_img = np.zeros((R, W, C), dtype=np.float32)\n",
    "    for channel in range(C):\n",
    "        for r in range(R):\n",
    "            flatidx = 0\n",
    "            offset = 2*r + 3 \n",
    "            for col in range(r, M-r-1):\n",
    "                if col == r:\n",
    "                    # repeat three times\n",
    "                    new_img[r, flatidx:flatidx+offset-r*(r>0), channel] = img[row, col, channel]\n",
    "                    flatidx += offset-r*(r>0)\n",
    "                else:\n",
    "                    new_img[r, flatidx, channel] = img[row, col, channel]\n",
    "                    flatidx += 1\n",
    "                # print(row,col)\n",
    "            col += 1\n",
    "            for row in range(r, M-r-1):\n",
    "                if row == r:\n",
    "                    # repeat three times\n",
    "                    new_img[r, flatidx:flatidx+offset, channel] = img[row, col, channel]\n",
    "                    flatidx += offset\n",
    "                else:\n",
    "                    new_img[r, flatidx, channel] = img[row, col, channel]\n",
    "                    flatidx += 1\n",
    "                # print(row,col)\n",
    "            row += 1\n",
    "            for col in range(M-r-1, r, -1):\n",
    "                if col == (M-r-1):\n",
    "                    # repeat three times\n",
    "                    new_img[r, flatidx:flatidx+offset, channel] = img[row, col, channel]\n",
    "                    flatidx += offset\n",
    "                else:\n",
    "                    new_img[r, flatidx, channel] = img[row, col, channel]\n",
    "                    flatidx += 1\n",
    "                # print(row,col)\n",
    "            col -= 1\n",
    "            for row in range(M-r-1, r, -1):\n",
    "                if row == (M-r-1):\n",
    "                    # repeat three times\n",
    "                    new_img[r, flatidx:flatidx+offset, channel] = img[row, col, channel]\n",
    "                    flatidx += offset\n",
    "                else:\n",
    "                    new_img[r, flatidx, channel] = img[row, col, channel]\n",
    "                    flatidx += 1\n",
    "                # print(row,col)\n",
    "            # add remainder\n",
    "            for e,re in enumerate(range(W-flatidx)):\n",
    "                new_img[r, flatidx+re, channel] = new_img[r, e, channel]\n",
    "        new_img[R-1,...,channel] = img[R-1,R-1,channel]\n",
    "    return new_img\n",
    "\n",
    "def SquareRotationalLayer(img):\n",
    "    (B, C, H, W) = img.shape\n",
    "    res = torch.zeros((B, C, H // 2, H * 4), dtype=img.dtype).to(img.device)\n",
    "    # res1 = torch.zeros((B, C, (H+1) // 2, (H+1) * 4), dtype=img.dtype).to(img.device)\n",
    "    lmid = np.floor((H - 1) / 2)\n",
    "    for i in range(lmid, -1, -1):\n",
    "        dif = lmid - i\n",
    "        el = 2 * dif if H % 2 == 1 else 2 * dif + 1\n",
    "        # top row\n",
    "        res[:, :, dif, 0:1*i]               = img[:, :, i, i].repeat(1, 1, 1, 1*i).reshape(B, C, 1*i)\n",
    "        res[:, :, dif, 1*i:1*i+el]          = img[:, :, i, i:i+el]\n",
    "        # right column\n",
    "        res[:, :, dif, 1*i+el:3*i+el]       = img[:, :, i, W - i - 1].repeat(1, 1, 1, 2*i).reshape(B, C, 2*i)\n",
    "        res[:, :, dif, 3*i+el:3*i+el*2]     = img[:, :, i:i+el, W - i - 1]\n",
    "        # bottom row\n",
    "        res[:, :, dif, 3*i+el*2:5*i+el*2]   = img[:, :, i+el, i+el].repeat(1, 1, 1, 2*i).reshape(B, C, 2*i)\n",
    "        res[:, :, dif, 5*i+2*el:5*i+3*el]   = torch.fliplr(img[:, :, i + el, i+1:i+1+el].transpose(1, 2)).transpose(1, 2)\n",
    "        # left column\n",
    "        res[:, :, dif, 5*i+3*el:7*i+3*el]   = img[:, :, i+el, i].repeat(1, 1, 1, 2*i).reshape(B, C, 2*i)\n",
    "        res[:, :, dif, 7*i+3*el:7*i+4*el]   = torch.fliplr(img[:, :, i+1:i+1+el, i].transpose(1, 2)).transpose(1, 2)\n",
    "        # Add missing initial corner\n",
    "        res[:, :, dif, 7*i+4*el:8*i+4*el] = img[:, :, i, i].repeat(1, 1, 1, 1*i).reshape(B, C, 1*i)\n",
    "    \n",
    "    # el = 0\n",
    "    # for i in range((H - 1) * 4):\n",
    "    #     if i == 0 or i % (H - 1) == 0:\n",
    "    #         res1[:, :, :, el:el+3] = res[:, :, :, i].repeat(1, 1, 1, 3).reshape(B, C, res.shape[2],3).transpose(2, 3).reshape(B, C, res.shape[2],3)\n",
    "    #         el += 3\n",
    "    #     else:\n",
    "    #         res1[:, :, :, el] = res[:, :, :, i]\n",
    "    #         el += 1\n",
    "    res[:, :, :, 4*H-4:4*H+4] = res[:, :, :, 0:8]\n",
    "    return res\n"
   ]
  },
  {
   "cell_type": "markdown",
   "id": "be64605a",
   "metadata": {},
   "source": [
    "## Create Directories"
   ]
  },
  {
   "cell_type": "code",
   "execution_count": 18,
   "id": "065ec29e",
   "metadata": {},
   "outputs": [],
   "source": [
    "os.makedirs('data')"
   ]
  },
  {
   "cell_type": "markdown",
   "id": "14ef725f",
   "metadata": {},
   "source": [
    "### CIFAR-10"
   ]
  },
  {
   "cell_type": "code",
   "execution_count": 48,
   "id": "90352d43",
   "metadata": {},
   "outputs": [
    {
     "name": "stdout",
     "output_type": "stream",
     "text": [
      "Files already downloaded and verified\n",
      "Files already downloaded and verified\n"
     ]
    },
    {
     "name": "stderr",
     "output_type": "stream",
     "text": [
      "100%|██████████| 10000/10000 [00:02<00:00, 4295.07it/s]\n",
      "100%|██████████| 10000/10000 [00:02<00:00, 4331.09it/s]\n",
      "100%|██████████| 10000/10000 [00:01<00:00, 5146.56it/s]\n"
     ]
    }
   ],
   "source": [
    "cifar_train = CIFAR10('data/cifar-10', train=True, download=True)\n",
    "cifar_test = CIFAR10('data/cifar-10', train=False, download=True)\n",
    "cifar_train_x, cifar_train_y = cifar_train.data, cifar_train.targets\n",
    "cifar_test_x, cifar_test_y = cifar_test.data, cifar_test.targets\n",
    "\n",
    "cifar_train_x = np.array(cifar_train_x).astype(np.float32)/255.\n",
    "cifar_train_y = np.array(cifar_train_y).astype(np.float32)/255.\n",
    "cifar_train_y = cifar_train_y.ravel()\n",
    "cifar_test_x  = np.array(cifar_test_x).astype(np.float32)/255.\n",
    "cifar_test_y  = np.array(cifar_test_y).astype(np.float32)/255.\n",
    "cifar_test_y  = cifar_test_y.ravel()\n",
    "\n",
    "np.save('data/cifar-10/train_x', cifar_train_x)\n",
    "np.save('data/cifar-10/train_y', cifar_train_y)\n",
    "np.save('data/cifar-10/test_x', cifar_test_x)\n",
    "np.save('data/cifar-10/test_y', cifar_test_y)\n",
    "\n",
    "test_xrot_45 = rotate(cifar_test_x, -45, 45)\n",
    "test_xrot_90 = rotate(cifar_test_x, -90, 90)\n",
    "test_xrot_360 = rotate(cifar_test_x, 0, 359)\n",
    "\n",
    "np.save('data/cifar-10/test_x_45', test_xrot_45)\n",
    "np.save('data/cifar-10/test_x_90', test_xrot_90)\n",
    "np.save('data/cifar-10/test_x_360', test_xrot_360)\n",
    "\n",
    "sqrl_train_x = SquareRotationalLayer(np.transpose(cifar_train_x, (0, 3, 1, 2)))\n",
    "sqrl_test_x = SquareRotationalLayer(np.transpose(cifar_test_x, (0, 3, 1, 2)))\n",
    "sqrl_test_x_45 = SquareRotationalLayer(np.transpose(test_xrot_45, (0, 3, 1, 2)))\n",
    "sqrl_test_x_90 = SquareRotationalLayer(np.transpose(test_xrot_90, (0, 3, 1, 2)))\n",
    "sqrl_test_x_360 = SquareRotationalLayer(np.transpose(test_xrot_360, (0, 3, 1, 2)))\n",
    "\n",
    "np.save('data/cifar-10/sqrl_train_x', sqrl_train_x)\n",
    "np.save('data/cifar-10/sqrl_test_x', sqrl_test_x)\n",
    "np.save('data/cifar-10/sqrl_test_x_45', sqrl_test_x_45)\n",
    "np.save('data/cifar-10/sqrl_test_x_90', sqrl_test_x_90)\n",
    "np.save('data/cifar-10/sqrl_test_x_360', sqrl_test_x_360)"
   ]
  },
  {
   "cell_type": "markdown",
   "id": "cc5ab44a",
   "metadata": {},
   "source": [
    "### Street View House Numbers"
   ]
  },
  {
   "cell_type": "code",
   "execution_count": 42,
   "id": "0f850357",
   "metadata": {},
   "outputs": [
    {
     "name": "stdout",
     "output_type": "stream",
     "text": [
      "Using downloaded and verified file: circle/svhn/train_32x32.mat\n",
      "Using downloaded and verified file: circle/svhn/test_32x32.mat\n"
     ]
    },
    {
     "name": "stderr",
     "output_type": "stream",
     "text": [
      "100%|██████████| 26032/26032 [00:06<00:00, 3814.21it/s]\n",
      "100%|██████████| 26032/26032 [00:06<00:00, 4078.61it/s]\n",
      "100%|██████████| 26032/26032 [00:05<00:00, 4401.52it/s]\n"
     ]
    }
   ],
   "source": [
    "svhn_train = SVHN('data/svhn', split='train', download=True)\n",
    "svhn_test = SVHN('data/svhn', split='test', download=True)\n",
    "svhn_train_x, svhn_train_y = svhn_train.data, svhn_train.labels\n",
    "svhn_test_x, svhn_test_y = svhn_test.data, svhn_test.labels\n",
    "\n",
    "svhn_train_x = np.transpose(np.array(svhn_train_x).astype(np.float32)/255., (0, 2, 3, 1))\n",
    "svhn_train_y = np.array(svhn_train_y).astype(np.float32)/255.\n",
    "svhn_train_y = svhn_train_y.ravel()\n",
    "svhn_test_x  = np.transpose(np.array(svhn_test_x).astype(np.float32)/255., (0, 2, 3, 1))\n",
    "svhn_test_y  = np.array(svhn_test_y).astype(np.float32)/255.\n",
    "svhn_test_y  = svhn_test_y.ravel()\n",
    "\n",
    "np.save('data/svhn/train_x', svhn_train_x)\n",
    "np.save('data/svhn/train_y', svhn_train_y)\n",
    "np.save('data/svhn/test_x', svhn_test_x)\n",
    "np.save('data/svhn/test_y', svhn_test_y)\n",
    "\n",
    "test_xrot_45 = rotate(svhn_test_x, -45, 45)\n",
    "test_xrot_90 = rotate(svhn_test_x, -90, 90)\n",
    "test_xrot_360 = rotate(svhn_test_x, 0, 359)\n",
    "\n",
    "np.save('data/svhn/test_x_45', test_xrot_45)\n",
    "np.save('data/svhn/test_x_90', test_xrot_90)\n",
    "np.save('data/svhn/test_x_360', test_xrot_360)\n"
   ]
  },
  {
   "cell_type": "markdown",
   "id": "74b67870",
   "metadata": {},
   "source": [
    "### MNIST"
   ]
  },
  {
   "cell_type": "code",
   "execution_count": 50,
   "id": "7c11f4fc",
   "metadata": {},
   "outputs": [
    {
     "name": "stdout",
     "output_type": "stream",
     "text": [
      "(60000, 28, 28) (60000,)\n"
     ]
    },
    {
     "name": "stderr",
     "output_type": "stream",
     "text": [
      "100%|██████████| 10000/10000 [00:01<00:00, 5337.52it/s]\n",
      "100%|██████████| 10000/10000 [00:02<00:00, 4805.59it/s]\n",
      "100%|██████████| 10000/10000 [00:01<00:00, 6026.08it/s]\n"
     ]
    }
   ],
   "source": [
    "mnist_train = MNIST('data/mnist', train=True, download=True)\n",
    "mnist_test = MNIST('data/mnist', train=False, download=True)\n",
    "mnist_train_x, mnist_train_y = mnist_train.data, mnist_train.targets\n",
    "mnist_test_x, mnist_test_y = mnist_test.data, mnist_test.targets\n",
    "\n",
    "mnist_train_x = np.array(mnist_train_x).astype(np.float32)/255.\n",
    "mnist_train_y = np.array(mnist_train_y).astype(np.float32)/255.\n",
    "mnist_train_y = mnist_train_y.ravel()\n",
    "mnist_test_x  = np.array(mnist_test_x).astype(np.float32)/255.\n",
    "mnist_test_y  = np.array(mnist_test_y).astype(np.float32)/255.\n",
    "mnist_test_y  = mnist_test_y.ravel()\n",
    "\n",
    "print(mnist_train_x.shape, mnist_train_y.shape)\n",
    "\n",
    "np.save('data/mnist/train_x', mnist_train_x)\n",
    "np.save('data/mnist/train_y', mnist_train_y)\n",
    "np.save('data/mnist/test_x', mnist_test_x)\n",
    "np.save('data/mnist/test_y', mnist_test_y)\n",
    "\n",
    "test_xrot_45 = rotate(mnist_test_x, -45, 45, grey=True)\n",
    "test_xrot_90 = rotate(mnist_test_x, -90, 90, grey=True)\n",
    "test_xrot_360 = rotate(mnist_test_x, 0, 359, grey=True)\n",
    "\n",
    "np.save('data/mnist/test_x_45', test_xrot_45)\n",
    "np.save('data/mnist/test_x_90', test_xrot_90)\n",
    "np.save('data/mnist/test_x_360', test_xrot_360)\n"
   ]
  },
  {
   "cell_type": "markdown",
   "id": "93d28208",
   "metadata": {},
   "source": [
    "### Fashion MNIST"
   ]
  },
  {
   "cell_type": "code",
   "execution_count": 51,
   "id": "eaa3fa83",
   "metadata": {},
   "outputs": [
    {
     "name": "stdout",
     "output_type": "stream",
     "text": [
      "Downloading http://fashion-mnist.s3-website.eu-central-1.amazonaws.com/train-images-idx3-ubyte.gz\n",
      "Downloading http://fashion-mnist.s3-website.eu-central-1.amazonaws.com/train-images-idx3-ubyte.gz to circle/fmnist/FashionMNIST/raw/train-images-idx3-ubyte.gz\n"
     ]
    },
    {
     "name": "stderr",
     "output_type": "stream",
     "text": [
      "26422272it [00:19, 1356405.01it/s]                              \n"
     ]
    },
    {
     "name": "stdout",
     "output_type": "stream",
     "text": [
      "Extracting circle/fmnist/FashionMNIST/raw/train-images-idx3-ubyte.gz to circle/fmnist/FashionMNIST/raw\n",
      "\n",
      "Downloading http://fashion-mnist.s3-website.eu-central-1.amazonaws.com/train-labels-idx1-ubyte.gz\n",
      "Downloading http://fashion-mnist.s3-website.eu-central-1.amazonaws.com/train-labels-idx1-ubyte.gz to circle/fmnist/FashionMNIST/raw/train-labels-idx1-ubyte.gz\n"
     ]
    },
    {
     "name": "stderr",
     "output_type": "stream",
     "text": [
      "29696it [00:00, 944199.31it/s]           \n"
     ]
    },
    {
     "name": "stdout",
     "output_type": "stream",
     "text": [
      "Extracting circle/fmnist/FashionMNIST/raw/train-labels-idx1-ubyte.gz to circle/fmnist/FashionMNIST/raw\n",
      "\n",
      "Downloading http://fashion-mnist.s3-website.eu-central-1.amazonaws.com/t10k-images-idx3-ubyte.gz\n",
      "Downloading http://fashion-mnist.s3-website.eu-central-1.amazonaws.com/t10k-images-idx3-ubyte.gz to circle/fmnist/FashionMNIST/raw/t10k-images-idx3-ubyte.gz\n"
     ]
    },
    {
     "name": "stderr",
     "output_type": "stream",
     "text": [
      "4422656it [00:05, 759784.72it/s]                              \n"
     ]
    },
    {
     "name": "stdout",
     "output_type": "stream",
     "text": [
      "Extracting circle/fmnist/FashionMNIST/raw/t10k-images-idx3-ubyte.gz to circle/fmnist/FashionMNIST/raw\n",
      "\n",
      "Downloading http://fashion-mnist.s3-website.eu-central-1.amazonaws.com/t10k-labels-idx1-ubyte.gz\n",
      "Downloading http://fashion-mnist.s3-website.eu-central-1.amazonaws.com/t10k-labels-idx1-ubyte.gz to circle/fmnist/FashionMNIST/raw/t10k-labels-idx1-ubyte.gz\n"
     ]
    },
    {
     "name": "stderr",
     "output_type": "stream",
     "text": [
      "6144it [00:00, 5651272.76it/s]          "
     ]
    },
    {
     "name": "stdout",
     "output_type": "stream",
     "text": [
      "Extracting circle/fmnist/FashionMNIST/raw/t10k-labels-idx1-ubyte.gz to circle/fmnist/FashionMNIST/raw\n",
      "\n"
     ]
    },
    {
     "name": "stderr",
     "output_type": "stream",
     "text": [
      "\n",
      "100%|██████████| 10000/10000 [00:01<00:00, 5335.32it/s]\n",
      "100%|██████████| 10000/10000 [00:01<00:00, 5291.87it/s]\n",
      "100%|██████████| 10000/10000 [00:01<00:00, 5722.41it/s]\n"
     ]
    }
   ],
   "source": [
    "fmnist_train = FashionMNIST('data/fmnist', train=True, download=True)\n",
    "fmnist_test = FashionMNIST('data/fmnist', train=False, download=True)\n",
    "fmnist_train_x, fmnist_train_y = fmnist_train.data, fmnist_train.targets\n",
    "fmnist_test_x, fmnist_test_y = fmnist_test.data, fmnist_test.targets\n",
    "\n",
    "fmnist_train_x = np.array(fmnist_train_x).astype(np.float32)/255.\n",
    "fmnist_train_y = np.array(fmnist_train_y).astype(np.float32)/255.\n",
    "fmnist_train_y = fmnist_train_y.ravel()\n",
    "fmnist_test_x  = np.array(fmnist_test_x).astype(np.float32)/255.\n",
    "fmnist_test_y  = np.array(fmnist_test_y).astype(np.float32)/255.\n",
    "fmnist_test_y  = fmnist_test_y.ravel()\n",
    "\n",
    "np.save('data/fmnist/train_x', fmnist_train_x)\n",
    "np.save('data/fmnist/train_y', fmnist_train_y)\n",
    "np.save('data/fmnist/test_x', fmnist_test_x)\n",
    "np.save('data/fmnist/test_y', fmnist_test_y)\n",
    "\n",
    "test_xrot_45 = rotate(fmnist_test_x, -45, 45, grey=True)\n",
    "test_xrot_90 = rotate(fmnist_test_x, -90, 90, grey=True)\n",
    "test_xrot_360 = rotate(fmnist_test_x, 0, 359, grey=True)\n",
    "\n",
    "np.save('data/fmnist/test_x_45', test_xrot_45)\n",
    "np.save('data/fmnist/test_x_90', test_xrot_90)\n",
    "np.save('data/fmnist/test_x_360', test_xrot_360)\n"
   ]
  }
 ],
 "metadata": {
  "interpreter": {
   "hash": "ab9a403a56b471616614fafedfe3ee81f82ac1295eea1ba75c324a6524cf246b"
  },
  "kernelspec": {
   "display_name": "Python (tf2)",
   "language": "python",
   "name": "python3"
  },
  "language_info": {
   "codemirror_mode": {
    "name": "ipython",
    "version": 3
   },
   "file_extension": ".py",
   "mimetype": "text/x-python",
   "name": "python",
   "nbconvert_exporter": "python",
   "pygments_lexer": "ipython3",
   "version": "3.9.6"
  }
 },
 "nbformat": 4,
 "nbformat_minor": 5
}
