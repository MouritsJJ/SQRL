{
 "cells": [
  {
   "cell_type": "code",
   "execution_count": 2,
   "id": "15984fbf-6e22-414f-8a82-77d116effd14",
   "metadata": {},
   "outputs": [],
   "source": [
    "import os\n",
    "os.environ['CUDA_VISIBLE_DEVICES']='0'\n",
    "import cv2\n",
    "import matplotlib.pyplot as plt\n",
    "import numpy as np\n",
    "import tensorflow as tf\n",
    "\n",
    "from PIL import Image\n",
    "from tensorflow.keras.datasets import mnist, cifar10\n",
    "from tensorflow.keras.layers import *\n",
    "from tensorflow.keras.models import *\n",
    "from tqdm import tqdm\n",
    "\n",
    "def add_padding(X):\n",
    "    ### assuming X squared\n",
    "    height, width = X.shape[1:3]\n",
    "    new_height = int(np.ceil(height/2 * 2**0.5))*2\n",
    "    new_width = int(np.ceil(width/2 * 2**0.5))*2\n",
    "    offset_h = (new_height-height)//2\n",
    "    offset_w = (new_width-width)//2\n",
    "    top, bottom = offset_h, offset_h+(new_height+1)%2\n",
    "    left, right = offset_w, offset_w+(new_width+1)%2\n",
    "    paddings = tf.constant([[0,0], [top, bottom], [left, right], [0,0]])\n",
    "    X = tf.pad(X, paddings, \"SYMMETRIC\").numpy()\n",
    "    return X\n",
    "\n",
    "def convert_to_lossless_polar(img):\n",
    "    assert len(img.shape) == 3\n",
    "    assert img.shape[0] == img.shape[1]\n",
    "    M = img.shape[0]\n",
    "    C = img.shape[-1]\n",
    "    R = M//2 + 1\n",
    "    W = (M+1)*4\n",
    "    row, col = 0, 0\n",
    "    new_img = np.zeros((R, W, C), dtype=np.float32)\n",
    "    for channel in range(C):\n",
    "        for r in range(R):\n",
    "            flatidx = 0\n",
    "            offset = 2*r + 3 \n",
    "            for col in range(r, M-r-1):\n",
    "                if col == r:\n",
    "                    # repeat three times\n",
    "                    new_img[r, flatidx:flatidx+offset-r*(r>0), channel] = img[row, col, channel]\n",
    "                    flatidx += offset-r*(r>0)\n",
    "                else:\n",
    "                    new_img[r, flatidx, channel] = img[row, col, channel]\n",
    "                    flatidx += 1\n",
    "                # print(row,col)\n",
    "            col += 1\n",
    "            for row in range(r, M-r-1):\n",
    "                if row == r:\n",
    "                    # repeat three times\n",
    "                    new_img[r, flatidx:flatidx+offset, channel] = img[row, col, channel]\n",
    "                    flatidx += offset\n",
    "                else:\n",
    "                    new_img[r, flatidx, channel] = img[row, col, channel]\n",
    "                    flatidx += 1\n",
    "                # print(row,col)\n",
    "            row += 1\n",
    "            for col in range(M-r-1, r, -1):\n",
    "                if col == (M-r-1):\n",
    "                    # repeat three times\n",
    "                    new_img[r, flatidx:flatidx+offset, channel] = img[row, col, channel]\n",
    "                    flatidx += offset\n",
    "                else:\n",
    "                    new_img[r, flatidx, channel] = img[row, col, channel]\n",
    "                    flatidx += 1\n",
    "                # print(row,col)\n",
    "            col -= 1\n",
    "            for row in range(M-r-1, r, -1):\n",
    "                if row == (M-r-1):\n",
    "                    # repeat three times\n",
    "                    new_img[r, flatidx:flatidx+offset, channel] = img[row, col, channel]\n",
    "                    flatidx += offset\n",
    "                else:\n",
    "                    new_img[r, flatidx, channel] = img[row, col, channel]\n",
    "                    flatidx += 1\n",
    "                # print(row,col)\n",
    "            # add remainder\n",
    "            for e,re in enumerate(range(W-flatidx)):\n",
    "                new_img[r, flatidx+re, channel] = new_img[r, e, channel]\n",
    "        new_img[R-1,...,channel] = img[R-1,R-1,channel]\n",
    "    return new_img"
   ]
  },
  {
   "cell_type": "markdown",
   "id": "6fffd234-ba6f-45d9-a939-4fac1a1c96e2",
   "metadata": {},
   "source": [
    "### GAUSSIAN IMAGE"
   ]
  },
  {
   "cell_type": "code",
   "execution_count": null,
   "id": "fe782510-41fd-49d2-92bd-ee3cf3d9a304",
   "metadata": {},
   "outputs": [],
   "source": [
    "dummy_img = np.zeros((11, 11), dtype=np.float32)\n",
    "for i in range(11):\n",
    "    for j in range(11):\n",
    "        dummy_img[i,j] = (i-5)**2 + (j-5)**2\n",
    "dummy_img = np.exp(-0.1*dummy_img)\n",
    "plt.figure()\n",
    "plt.imshow(dummy_img)\n",
    "plt.figure()\n",
    "plt.imshow(convert_to_lossless_polar(dummy_img[...,None])[...,0])"
   ]
  },
  {
   "cell_type": "code",
   "execution_count": 3,
   "id": "5e3c31e9-b804-4d6d-9a99-c1917423c168",
   "metadata": {},
   "outputs": [],
   "source": [
    "def rotate(x, angle):\n",
    "    # x is assumed to be in [0,1]\n",
    "    xrot = np.array(Image.fromarray((x*255).astype(np.uint8)).rotate(angle)).astype(np.float32)/255.\n",
    "    return xrot\n",
    "\n",
    "def get_model(input_shape):\n",
    "    in_ = Input(shape=input_shape)\n",
    "    x = in_\n",
    "    for i in range(3):\n",
    "        x = Conv2D(2**(4+i), (3,5), strides=(1,2), padding='VALID')(x)\n",
    "        x = Activation('relu')(x)\n",
    "    x = Lambda(lambda t: tf.reduce_max(t, axis=2))(x)\n",
    "    x = Flatten()(x)\n",
    "    x = Dense(512)(x)\n",
    "    x = Activation('relu')(x)\n",
    "    x = Dense(10, activation='softmax')(x)\n",
    "    model = Model(in_, x)\n",
    "    model.build((None,)+input_shape)\n",
    "    return model"
   ]
  },
  {
   "cell_type": "code",
   "execution_count": 5,
   "id": "a8091566-b419-4b30-a75f-78a9da3d73c7",
   "metadata": {},
   "outputs": [
    {
     "name": "stdout",
     "output_type": "stream",
     "text": [
      "Downloading data from https://www.cs.toronto.edu/~kriz/cifar-10-python.tar.gz\n",
      "170500096/170498071 [==============================] - 7s 0us/step\n",
      "170508288/170498071 [==============================] - 7s 0us/step\n"
     ]
    },
    {
     "name": "stderr",
     "output_type": "stream",
     "text": [
      "100%|██████████| 50000/50000 [01:32<00:00, 541.27it/s]\n",
      "100%|██████████| 10000/10000 [00:18<00:00, 534.90it/s]\n",
      "100%|██████████| 10000/10000 [00:19<00:00, 500.36it/s]\n",
      "100%|██████████| 10000/10000 [00:19<00:00, 509.10it/s]\n"
     ]
    }
   ],
   "source": [
    "(X_train, y_train), (X_test, y_test) = cifar10.load_data()\n",
    "X_train = X_train.astype(np.float32)/255.\n",
    "X_test  = X_test.astype(np.float32)/255.\n",
    "y_train = y_train.ravel()\n",
    "y_test = y_test.ravel()\n",
    "real_radius = (X_train.shape[1] + (X_train.shape[1]+1)%2)//2\n",
    "\n",
    "# new_X_train = np.load('../circle/new_X_train.npy')\n",
    "# new_X_test = np.load('../circle/new_X_test.npy')\n",
    "# new_X_test_45 = np.load('../circle/new_X_test_45.npy')\n",
    "# new_X_test_90 = np.load('../circle/new_X_test_90.npy')\n",
    "\n",
    "# plt.figure()\n",
    "# plt.imshow(np.vstack(( new_X_test[0], new_X_test_90[0], new_X_test_45[0])))\n",
    "\n",
    "\n",
    "\n",
    "# plt.figure()\n",
    "# plt.imshow(np.vstack(( new_X_test[0], new_X_test_90[0], new_X_test_45[0])))\n",
    "\n",
    "X_train = add_padding(X_train)\n",
    "X_test = add_padding(X_test)\n",
    "\n",
    "new_X_train = []\n",
    "for x in tqdm(X_train):\n",
    "    new_X_train.append(convert_to_lossless_polar(x))\n",
    "    \n",
    "new_X_test = []\n",
    "for x in tqdm(X_test):\n",
    "    new_X_test.append(convert_to_lossless_polar(x))\n",
    "new_X_train = np.array(new_X_train)\n",
    "new_X_test  = np.array(new_X_test)\n",
    "\n",
    "new_X_test_rot = []\n",
    "for x in tqdm(X_test):\n",
    "    xr = rotate(x, 45)\n",
    "    new_X_test_rot.append(convert_to_lossless_polar(xr))\n",
    "new_X_test_45 = np.array(new_X_test_rot)\n",
    "\n",
    "new_X_test_rot = []\n",
    "for x in tqdm(X_test):\n",
    "    xr = rotate(x, 90)\n",
    "    new_X_test_rot.append(convert_to_lossless_polar(xr))\n",
    "new_X_test_90 = np.array(new_X_test_rot)\n",
    "\n",
    "offset = new_X_train.shape[1] - real_radius\n",
    "new_X_train = new_X_train[:, offset:]\n",
    "new_X_test = new_X_test[:, offset:]\n",
    "new_X_test_45 = new_X_test_45[:, offset:]\n",
    "new_X_test_90 = new_X_test_90[:, offset:]\n",
    "\n",
    "# np.save(Cnew_X_train.npy', new_X_train)\n",
    "# np.save('circle/new_X_test.npy', new_X_test)\n",
    "# np.save('circle/new_X_test_45.npy', new_X_test_rot)\n",
    "# np.save('circle/new_X_test_90.npy', new_X_test_rot)"
   ]
  },
  {
   "cell_type": "code",
   "execution_count": 6,
   "id": "1ee310d1",
   "metadata": {},
   "outputs": [],
   "source": [
    "np.save('circle/new_X_train.npy', new_X_train)\n",
    "np.save('circle/new_X_test.npy', new_X_test)\n",
    "np.save('circle/new_X_test_45.npy', new_X_test_45)\n",
    "np.save('circle/new_X_test_90.npy', new_X_test_90)"
   ]
  },
  {
   "cell_type": "code",
   "execution_count": 7,
   "id": "6233fdc7",
   "metadata": {},
   "outputs": [],
   "source": [
    " np.save('circle/y_train.npy', y_train)\n",
    " np.save('circle/y_test.npy', y_test)\n"
   ]
  },
  {
   "cell_type": "code",
   "execution_count": null,
   "id": "9f1812d4-25a0-4601-8347-28ae2b36463a",
   "metadata": {},
   "outputs": [],
   "source": [
    "model = get_model(new_X_train.shape[1:])"
   ]
  },
  {
   "cell_type": "code",
   "execution_count": null,
   "id": "809f760a-9a50-4c99-b2b7-1b7f6c5a81d5",
   "metadata": {},
   "outputs": [],
   "source": [
    "model.compile(loss='sparse_categorical_crossentropy', optimizer='adam', metrics=['accuracy'])"
   ]
  },
  {
   "cell_type": "code",
   "execution_count": null,
   "id": "3cae226b-db6e-4187-adad-965360203bbd",
   "metadata": {},
   "outputs": [],
   "source": [
    "for i in range(10):\n",
    "    model.fit(new_X_train, y_train, batch_size=64, epochs=1)\n",
    "    y_pred = model.predict(new_X_test).argmax(axis=1)\n",
    "    test_acc_00 = np.mean(y_pred == y_test.ravel())*100\n",
    "    y_pred = model.predict(new_X_test_45).argmax(axis=1)\n",
    "    test_acc_45 = np.mean(y_pred == y_test.ravel())*100\n",
    "    y_pred = model.predict(new_X_test_90).argmax(axis=1)\n",
    "    test_acc_90 = np.mean(y_pred == y_test.ravel())*100\n",
    "    print(f'A00={test_acc_00:.2f} A45={test_acc_45:.2f} A90={test_acc_90:.2f}')"
   ]
  },
  {
   "cell_type": "code",
   "execution_count": null,
   "id": "9503045a-e9e8-4131-bcbc-1807a7bddace",
   "metadata": {},
   "outputs": [],
   "source": [
    "new_X_test_rot = []\n",
    "for x in tqdm(X_test):\n",
    "    xr = rotate(x, np.random.randint(-90, 90))\n",
    "    new_X_test_rot.append(convert_to_lossless_polar(xr))\n",
    "new_X_test_rot = np.array(new_X_test_rot)"
   ]
  },
  {
   "cell_type": "code",
   "execution_count": null,
   "id": "6a829647-f6ff-4ec2-8f17-6f205ca6a2a7",
   "metadata": {},
   "outputs": [],
   "source": [
    "y_pred = model.predict(new_X_test_rot[:, offset:])"
   ]
  },
  {
   "cell_type": "code",
   "execution_count": null,
   "id": "a3f85a71-3bbd-472c-9ab5-e838df0a4617",
   "metadata": {},
   "outputs": [],
   "source": [
    "np.mean(y_pred.argmax(axis=1) == y_test)*100"
   ]
  }
 ],
 "metadata": {
  "interpreter": {
   "hash": "ab9a403a56b471616614fafedfe3ee81f82ac1295eea1ba75c324a6524cf246b"
  },
  "kernelspec": {
   "display_name": "Python (tf2)",
   "language": "python",
   "name": "python3"
  },
  "language_info": {
   "codemirror_mode": {
    "name": "ipython",
    "version": 3
   },
   "file_extension": ".py",
   "mimetype": "text/x-python",
   "name": "python",
   "nbconvert_exporter": "python",
   "pygments_lexer": "ipython3",
   "version": "3.9.10"
  }
 },
 "nbformat": 4,
 "nbformat_minor": 5
}
